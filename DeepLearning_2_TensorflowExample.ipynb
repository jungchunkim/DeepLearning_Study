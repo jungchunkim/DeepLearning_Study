{
 "cells": [
  {
   "cell_type": "markdown",
   "metadata": {},
   "source": [
    "# 텐서플로\n",
    "\n",
    "노드(operation, 값 저장) - edge(data, tensors) 로 연결 -> tense 가 돌아다닌다 --> tenserflow\n",
    "TensorFlow operations을 통해 graph 를 만든다.-> graph 를 run 시킨다 -> return values\n",
    "\n",
    "pip install --upgrade tensorflow-cpu 로 설치해주자\n"
   ]
  },
  {
   "cell_type": "code",
   "execution_count": 10,
   "metadata": {},
   "outputs": [
    {
     "data": {
      "text/plain": [
       "'2.4.0'"
      ]
     },
     "execution_count": 10,
     "metadata": {},
     "output_type": "execute_result"
    }
   ],
   "source": [
    "# 텐서플로가 잘 설치되어있는지 확인\n",
    "import tensorflow as tf\n",
    "tf.__version__"
   ]
  },
  {
   "cell_type": "markdown",
   "metadata": {},
   "source": [
    "tf.Session()과 고친 코드의 경우 텐서플로우 버전 1.x.x에서 사용하는 표현방식이라 발생한 오류이다.\n",
    "\n",
    "텐서플로우 버전 2.0.0에서는 Session을 정의하고 run 해주는 과정이 생략된다."
   ]
  },
  {
   "cell_type": "code",
   "execution_count": 19,
   "metadata": {},
   "outputs": [
    {
     "name": "stdout",
     "output_type": "stream",
     "text": [
      "Hello, TensorFlow!\r\n"
     ]
    }
   ],
   "source": [
    "# constant를 이용해서 노드 만들기\n",
    "hello = tf.constant(\"Hello, TensorFlow!\")\n",
    "\n",
    "#sess=tf.Session()\n",
    "#print(sess.run(hello))\n",
    "\n",
    "#2.0.0 이후로부터는 생략!\n",
    "tf.print(hello)"
   ]
  },
  {
   "cell_type": "code",
   "execution_count": 12,
   "metadata": {},
   "outputs": [],
   "source": [
    "# 노드의 값 덧셈\n",
    "node1=tf.constant(3.0,tf.float32)\n",
    "node2=tf.constant(4.0)\n",
    "node3=tf.add(node1,node2)"
   ]
  },
  {
   "cell_type": "code",
   "execution_count": 15,
   "metadata": {},
   "outputs": [
    {
     "name": "stdout",
     "output_type": "stream",
     "text": [
      "node1 tf.Tensor(3.0, shape=(), dtype=float32) node2 tf.Tensor(4.0, shape=(), dtype=float32)\n",
      "node3 tf.Tensor(7.0, shape=(), dtype=float32)\n"
     ]
    }
   ],
   "source": [
    "print(\"node1\",node1,\"node2\",node2)\n",
    "print(\"node3\",node3)"
   ]
  },
  {
   "cell_type": "code",
   "execution_count": 18,
   "metadata": {},
   "outputs": [
    {
     "name": "stdout",
     "output_type": "stream",
     "text": [
      "node1, node2 [3, 4]\r\n"
     ]
    }
   ],
   "source": [
    "tf.print(\"node1, node2\", [node1,node2])"
   ]
  },
  {
   "cell_type": "markdown",
   "metadata": {},
   "source": [
    "placeholder를 이용해서 노드 만들기\n",
    "\n",
    "tensorflow 2.0.0에서는 placeholder 대신 함수, constant를 만들어서 사용"
   ]
  },
  {
   "cell_type": "markdown",
   "metadata": {},
   "source": [
    "# Tensor Ranks\n",
    "Rank 0 , 1 , 2 , 3 , n\n",
    "-> 몇 차원 배열 인지 알려준다.\n",
    "\n",
    "랭크\t수학 개체\n",
    "\n",
    "0\t스칼라(Scalar) (크기(magnitude)만)\n",
    "\n",
    "1\t벡터(Vector) (크기와 방향(direction))\n",
    "\n",
    "2\t행렬(Matrix) (숫자 표)\n",
    "\n",
    "3\t3-텐서 (숫자 큐브(cube))\n",
    "\n",
    "n\tn-텐서 (알 수 있을겁니다(you get the idea))\n",
    "\n",
    "\n",
    "# Tensor Shapes\n",
    "텐서의 형태(shape)는 각 차원에 있는 원소 개수로 표현된다.\n",
    "\n",
    "0\t[]\t0-차원\t스칼라인 0-차원 텐서.\n",
    "\n",
    "1\t[D0]\t1-차원\t형태가 [5]인 1-차원 텐서.\n",
    "\n",
    "2\t[D0, D1]\t2-차원\t형태가 [3, 4]인 2-차원 텐서.\n",
    "\n",
    "3\t[D0, D1, D2]\t3-차원\t형태가 [1, 4, 3]인 3-차원 텐서.\n",
    "\n",
    "n\t[D0, D1, ... Dn-1]\tn-차원\t형태가 [D0, D1, ... Dn-1]인 텐서.\n",
    "\n",
    "\n",
    "# Tensor Types\n",
    "tf.float32 , tf.int32 와 같은 형태\n"
   ]
  },
  {
   "cell_type": "code",
   "execution_count": null,
   "metadata": {},
   "outputs": [],
   "source": []
  }
 ],
 "metadata": {
  "kernelspec": {
   "display_name": "Python 3",
   "language": "python",
   "name": "python3"
  },
  "language_info": {
   "codemirror_mode": {
    "name": "ipython",
    "version": 3
   },
   "file_extension": ".py",
   "mimetype": "text/x-python",
   "name": "python",
   "nbconvert_exporter": "python",
   "pygments_lexer": "ipython3",
   "version": "3.7.5"
  }
 },
 "nbformat": 4,
 "nbformat_minor": 4
}
