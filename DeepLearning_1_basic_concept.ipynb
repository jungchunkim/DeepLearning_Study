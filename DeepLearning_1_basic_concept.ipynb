{
 "cells": [
  {
   "cell_type": "markdown",
   "metadata": {},
   "source": [
    "# 공부하는 순서\n",
    "1. 기본 개념\n",
    "2. Linear regression\n",
    "3. Logisitic regression ( 분류 )\n",
    "4. Multivariable linear/logistic regression\n",
    "5. Neural networks\n",
    "6. 딥러닝 (CNN,RNN,Bidrectional Neural networks)"
   ]
  },
  {
   "cell_type": "markdown",
   "metadata": {},
   "source": [
    "# 지도 학습 - labeled data\n",
    "learning with labeled examples - training set ( ex) 고양이 , 개 사진들으로 학습! )\n",
    "-->image labeling\n",
    "-->email spam filter\n",
    "-->predicting exam score\n",
    "\n",
    "regression\n",
    "->predicting final exam score based on time spent\n",
    "- x=10 일때 y=90\n",
    "- x=9 일때 y=80\n",
    "- x=3 일때 y=50\n",
    "- x=2 일때 y=30 --> 학습시킨다.\n",
    "- 만약 x=7이면 ?? ML에 값 넣어--> \n",
    "\n",
    "binary classification\n",
    "-> pass/non-pass based on time spent\n",
    "- x=10 일때 y=P\n",
    "- x=9 일때 y=P\n",
    "- x=3 일때 y=F\n",
    "- x=2 일때 y=F\n",
    "\n",
    "multi-label classification\n",
    "-> Letter grade(A,B,C,E,F) based on time spent\n",
    "- x=10 일때 y=A\n",
    "- x=9 일때 y=B\n",
    "- x=3 일때 y=C\n",
    "- x=2 일때 y=E\n",
    "\n",
    "ex ) 알파고 학습시켜 --> 어떤 돌을 놓을지 결정!!\n"
   ]
  },
  {
   "cell_type": "markdown",
   "metadata": {},
   "source": [
    "# 비지도 학습  - unlabeled data\n",
    "- 구글 뉴스 그룹핑\n",
    "- word clustering\n"
   ]
  },
  {
   "cell_type": "code",
   "execution_count": null,
   "metadata": {},
   "outputs": [],
   "source": []
  }
 ],
 "metadata": {
  "kernelspec": {
   "display_name": "Python 3",
   "language": "python",
   "name": "python3"
  },
  "language_info": {
   "codemirror_mode": {
    "name": "ipython",
    "version": 3
   },
   "file_extension": ".py",
   "mimetype": "text/x-python",
   "name": "python",
   "nbconvert_exporter": "python",
   "pygments_lexer": "ipython3",
   "version": "3.7.5"
  }
 },
 "nbformat": 4,
 "nbformat_minor": 4
}
